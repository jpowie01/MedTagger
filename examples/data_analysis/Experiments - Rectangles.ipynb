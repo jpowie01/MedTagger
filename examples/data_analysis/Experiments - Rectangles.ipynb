{
 "cells": [
  {
   "cell_type": "markdown",
   "metadata": {},
   "source": [
    "# Experiment // Rectangles"
   ]
  },
  {
   "cell_type": "markdown",
   "metadata": {},
   "source": [
    "### Preparation\n",
    "At the beginning, let's import the most important modules and classes from the MedTagger internal API."
   ]
  },
  {
   "cell_type": "code",
   "execution_count": 1,
   "metadata": {},
   "outputs": [],
   "source": [
    "import collections\n",
    "import numpy as np\n",
    "from medtagger.database import models\n",
    "from medtagger.ground_truth.algorithms.majority_voting import MajorityVotingAlgorithm\n",
    "from medtagger.ground_truth.algorithms.gaussian_mixture_models import GaussianMixtureModelsAlgorithm\n",
    "from medtagger.ground_truth.algorithms.k_means import KMeansAlgorithm\n",
    "from medtagger.ground_truth.algorithms.dbscan import DBSCANAlgorithm\n",
    "from medtagger.ground_truth.parsers.rectangle import RectangleLabelElementParser\n",
    "from medtagger.ground_truth.generator import DataSetGenerator\n",
    "from medtagger.ground_truth.quality import figures\n",
    "from medtagger.ground_truth.quality.user_specificity_sensitivity import \\\n",
    "    compute_specificity_and_sensitivity_for_users"
   ]
  },
  {
   "cell_type": "code",
   "execution_count": 2,
   "metadata": {},
   "outputs": [],
   "source": [
    "import matplotlib.pyplot as plt\n",
    "plt.rcParams['figure.figsize'] = [8.0, 6.0]\n",
    "plt.rcParams['figure.dpi'] = 120"
   ]
  },
  {
   "cell_type": "code",
   "execution_count": 3,
   "metadata": {},
   "outputs": [],
   "source": [
    "SCAN_IDS = [\n",
    "    '03647f36-d874-480b-aaec-c2c3b9d80092',\n",
    "    '40761156-99db-4647-9b72-8e449e6cb54c',\n",
    "    'b750320e-5664-4eff-b4c7-49e4f43ce6ca',\n",
    "    '8b5d264d-bc2f-458f-ba68-2a987d55deae',\n",
    "    '7985ea16-d5a4-4bda-92db-43a3cc074216'\n",
    "]"
   ]
  },
  {
   "cell_type": "markdown",
   "metadata": {},
   "source": [
    "### Create Generator instance\n",
    "\n",
    "To create Ground Truth data set, all you need is to define your data set generator and an algorithm that should be used during generation."
   ]
  },
  {
   "cell_type": "code",
   "execution_count": 4,
   "metadata": {},
   "outputs": [],
   "source": [
    "# algorithm = MajorityVotingAlgorithm()\n",
    "# algorithm = GaussianMixtureModelsAlgorithm()\n",
    "# algorithm = KMeansAlgorithm()\n",
    "algorithm = DBSCANAlgorithm()\n",
    "generator = DataSetGenerator(algorithm)"
   ]
  },
  {
   "cell_type": "code",
   "execution_count": 5,
   "metadata": {},
   "outputs": [],
   "source": [
    "# PERCENTILE = 0\n",
    "# PERCENTILE = 50\n",
    "PERCENTILE = 75"
   ]
  },
  {
   "cell_type": "code",
   "execution_count": 6,
   "metadata": {},
   "outputs": [],
   "source": [
    "mv_algorithm = MajorityVotingAlgorithm()\n",
    "mv_generator = DataSetGenerator(algorithm)"
   ]
  },
  {
   "cell_type": "code",
   "execution_count": 7,
   "metadata": {},
   "outputs": [],
   "source": [
    "parser = RectangleLabelElementParser()"
   ]
  },
  {
   "cell_type": "markdown",
   "metadata": {},
   "source": [
    "### Select Scans for analysis\n",
    "\n",
    "Then, select all Scans that you would like to analyse."
   ]
  },
  {
   "cell_type": "code",
   "execution_count": 8,
   "metadata": {},
   "outputs": [
    {
     "name": "stdout",
     "output_type": "stream",
     "text": [
      "Scan IDs: {'40761156-99db-4647-9b72-8e449e6cb54c', '03647f36-d874-480b-aaec-c2c3b9d80092', '7985ea16-d5a4-4bda-92db-43a3cc074216', 'b750320e-5664-4eff-b4c7-49e4f43ce6ca', '8b5d264d-bc2f-458f-ba68-2a987d55deae'}\n"
     ]
    }
   ],
   "source": [
    "scans = models.Scan.query.all()\n",
    "scans_ids = {scan.id for scan in scans}\n",
    "print(f'Scan IDs: {scans_ids}')"
   ]
  },
  {
   "cell_type": "markdown",
   "metadata": {},
   "source": [
    "### Select Label Elements for analysis\n",
    "\n",
    "Now, select all Label Elements that should be analysed.\n",
    "\n",
    "**IMPORTANT:** Currently Data Set Generator assumes only one Label Element per Slice. Don't worry, this will change in the near future."
   ]
  },
  {
   "cell_type": "code",
   "execution_count": 9,
   "metadata": {
    "scrolled": true
   },
   "outputs": [
    {
     "name": "stdout",
     "output_type": "stream",
     "text": [
      "There are 1317 Rectangular Label Elements from ETI.\n",
      "There are 494 Rectangular Label Elements from GUMED.\n",
      "There are 1811 Rectangular Label Elements from ETI & GUMED.\n",
      "There are 141 Rectangular Label Elements from EXPERT.\n",
      "Example: <RectangularLabelElement: 8fb4c755-4a0e-4a03-8da2-72ba6593d9fb>\n"
     ]
    }
   ],
   "source": [
    "query = models.RectangularLabelElement.query.join(models.Label).join(models.User)\n",
    "query = query.filter(models.Label.scan_id.in_(scans_ids))\n",
    "eti_rectangular_label_elements = query.filter(models.User.last_name == 'ETI').all()\n",
    "gumed_rectangular_label_elements = query.filter(models.User.last_name == 'GUMED').all()\n",
    "expert_rectangular_label_elements = query.filter(models.User.last_name == 'EXPERT').all()\n",
    "combined_rectangular_label_elements = query.filter(models.User.last_name.in_(['ETI', 'GUMED'])).all()\n",
    "print(f'There are {len(eti_rectangular_label_elements)} Rectangular Label Elements from ETI.')\n",
    "print(f'There are {len(gumed_rectangular_label_elements)} Rectangular Label Elements from GUMED.')\n",
    "print(f'There are {len(combined_rectangular_label_elements)} Rectangular Label Elements from ETI & GUMED.')\n",
    "print(f'There are {len(expert_rectangular_label_elements)} Rectangular Label Elements from EXPERT.')\n",
    "print(f'Example: {eti_rectangular_label_elements[0]}')"
   ]
  },
  {
   "cell_type": "markdown",
   "metadata": {},
   "source": [
    "### Generate Ground Truth data set\n",
    "\n",
    "Take your Label Elements and use generator to generate output Ground Truth annotations for each Slice that took part in the labeling process."
   ]
  },
  {
   "cell_type": "code",
   "execution_count": 10,
   "metadata": {
    "scrolled": false
   },
   "outputs": [],
   "source": [
    "ground_truth_expert = mv_generator.generate(expert_rectangular_label_elements)\n",
    "# ground_truth_expert"
   ]
  },
  {
   "cell_type": "code",
   "execution_count": 11,
   "metadata": {
    "scrolled": false
   },
   "outputs": [],
   "source": [
    "ground_truth_eti = generator.generate(eti_rectangular_label_elements)\n",
    "# ground_truth_eti"
   ]
  },
  {
   "cell_type": "code",
   "execution_count": 12,
   "metadata": {},
   "outputs": [],
   "source": [
    "combined_rectangular_label_elements = [s for s in combined_rectangular_label_elements\n",
    "                                       if s.slice_index < len(s.label.scan.slices)]\n",
    "ground_truth_combined = generator.generate(combined_rectangular_label_elements)\n",
    "# ground_truth_combined"
   ]
  },
  {
   "cell_type": "code",
   "execution_count": 13,
   "metadata": {
    "scrolled": false
   },
   "outputs": [],
   "source": [
    "gumed_rectangular_label_elements = [s for s in gumed_rectangular_label_elements\n",
    "                                    if s.slice_index < len(s.label.scan.slices)]\n",
    "ground_truth_gumed = generator.generate(gumed_rectangular_label_elements)\n",
    "# ground_truth_gumed"
   ]
  },
  {
   "cell_type": "markdown",
   "metadata": {},
   "source": [
    "## [Table 1] Expert labels"
   ]
  },
  {
   "cell_type": "code",
   "execution_count": 14,
   "metadata": {},
   "outputs": [],
   "source": [
    "labels_per_scan = {}\n",
    "for slice_id in ground_truth_expert:\n",
    "    scan_id = models.Scan.query.join(models.Slice).filter(models.Slice.id == slice_id).first().id\n",
    "    if ground_truth_expert[slice_id] is not None:\n",
    "        if labels_per_scan.get(scan_id) is None:\n",
    "            labels_per_scan[scan_id] = 0\n",
    "        labels_per_scan[scan_id] += 1"
   ]
  },
  {
   "cell_type": "code",
   "execution_count": 15,
   "metadata": {},
   "outputs": [],
   "source": [
    "slices_per_scan = {}\n",
    "for scan in models.Scan.query.all():\n",
    "    scan_id = scan.id\n",
    "    slices_per_scan[scan_id] = len(scan.slices)"
   ]
  },
  {
   "cell_type": "code",
   "execution_count": 16,
   "metadata": {
    "scrolled": true
   },
   "outputs": [
    {
     "name": "stdout",
     "output_type": "stream",
     "text": [
      "8b5d264d-bc2f-458f-ba68-2a987d55deae -> 10 labels, 28 slices\n",
      "7985ea16-d5a4-4bda-92db-43a3cc074216 -> 29 labels, 50 slices\n",
      "40761156-99db-4647-9b72-8e449e6cb54c -> 7 labels, 22 slices\n",
      "b750320e-5664-4eff-b4c7-49e4f43ce6ca -> 10 labels, 28 slices\n",
      "03647f36-d874-480b-aaec-c2c3b9d80092 -> 11 labels, 28 slices\n"
     ]
    }
   ],
   "source": [
    "for scan_id in labels_per_scan:\n",
    "    print(scan_id, '->', labels_per_scan[scan_id], 'labels,', slices_per_scan[scan_id], 'slices')"
   ]
  },
  {
   "cell_type": "markdown",
   "metadata": {},
   "source": [
    "## [Table 1] Valid vs. Invalid"
   ]
  },
  {
   "cell_type": "code",
   "execution_count": 17,
   "metadata": {},
   "outputs": [],
   "source": [
    "# eti_valid_labels = {}\n",
    "# eti_total_labels = {}\n",
    "\n",
    "# for e in eti_rectangular_label_elements:\n",
    "#     scan_id = e.label.scan.id\n",
    "#     slice_id = e.label.scan.slices[e.slice_index].id\n",
    "#     if eti_valid_labels.get(scan_id) is None:\n",
    "#         eti_valid_labels[scan_id] = 0\n",
    "#         eti_total_labels[scan_id] = 0\n",
    "#     if ground_truth_expert[slice_id] is not None:\n",
    "#         eti_valid_labels[scan_id] += 1\n",
    "#     eti_total_labels[scan_id] += 1\n",
    "\n",
    "# gumed_valid_labels = {}\n",
    "# gumed_total_labels = {}\n",
    "\n",
    "# for e in gumed_rectangular_label_elements:\n",
    "#     if e.slice_index >= len(e.label.scan.slices):\n",
    "#         continue\n",
    "#     scan_id = e.label.scan.id\n",
    "#     slice_id = e.label.scan.slices[e.slice_index].id\n",
    "#     if gumed_valid_labels.get(scan_id) is None:\n",
    "#         gumed_valid_labels[scan_id] = 0\n",
    "#         gumed_total_labels[scan_id] = 0\n",
    "#     if ground_truth_expert[slice_id] is not None:\n",
    "#         gumed_valid_labels[scan_id] += 1\n",
    "#     gumed_total_labels[scan_id] += 1\n",
    "\n",
    "# for scan_id in SCAN_IDS:\n",
    "#     print(' {:.3f}%'.format(100 * eti_valid_labels[scan_id] / eti_total_labels[scan_id]),\n",
    "#           '\\t{:.3f}%'.format(100 * (eti_total_labels[scan_id] - eti_valid_labels[scan_id]) / eti_total_labels[scan_id]),\n",
    "#           '\\t{:.3f}%'.format(100 * gumed_valid_labels[scan_id] / gumed_total_labels[scan_id]),\n",
    "#           '\\t{:.3f}%'.format(100 * (gumed_total_labels[scan_id] - gumed_valid_labels[scan_id]) / gumed_total_labels[scan_id]))"
   ]
  },
  {
   "cell_type": "markdown",
   "metadata": {},
   "source": [
    "## [Table 2] Dispersion"
   ]
  },
  {
   "cell_type": "code",
   "execution_count": 18,
   "metadata": {
    "scrolled": false
   },
   "outputs": [],
   "source": [
    "# eti_x_differences = collections.defaultdict(lambda: [])\n",
    "# eti_y_differences = collections.defaultdict(lambda: [])\n",
    "# eti_w_differences = collections.defaultdict(lambda: [])\n",
    "# eti_h_differences = collections.defaultdict(lambda: [])\n",
    "\n",
    "# for e in eti_rectangular_label_elements:\n",
    "#     scan_id = e.label.scan.id\n",
    "#     slice_id = e.label.scan.slices[e.slice_index].id\n",
    "#     gt_rect = ground_truth_expert.get(slice_id)\n",
    "#     gt_rect = gt_rect if gt_rect is not None else np.array((0,0,0,0))\n",
    "#     eti_x_differences[scan_id].append(abs(e.x - gt_rect[0]))\n",
    "#     eti_y_differences[scan_id].append(abs(e.y - gt_rect[1]))\n",
    "#     eti_w_differences[scan_id].append(abs(e.width - (gt_rect[2] - gt_rect[0])))\n",
    "#     eti_h_differences[scan_id].append(abs(e.height - (gt_rect[3] - gt_rect[1])))\n",
    "\n",
    "# gumed_x_differences = collections.defaultdict(lambda: [])\n",
    "# gumed_y_differences = collections.defaultdict(lambda: [])\n",
    "# gumed_w_differences = collections.defaultdict(lambda: [])\n",
    "# gumed_h_differences = collections.defaultdict(lambda: [])\n",
    "\n",
    "# for e in gumed_rectangular_label_elements:\n",
    "#     scan_id = e.label.scan.id\n",
    "#     slice_id = e.label.scan.slices[e.slice_index].id\n",
    "#     gt_rect = ground_truth_expert.get(slice_id)\n",
    "#     gt_rect = gt_rect if gt_rect is not None else np.array((0,0,0,0))\n",
    "#     gumed_x_differences[scan_id].append(abs(e.x - gt_rect[0]))\n",
    "#     gumed_y_differences[scan_id].append(abs(e.y - gt_rect[1]))\n",
    "#     gumed_w_differences[scan_id].append(abs(e.width - (gt_rect[2] - gt_rect[0])))\n",
    "#     gumed_h_differences[scan_id].append(abs(e.height - (gt_rect[3] - gt_rect[1])))\n",
    "    \n",
    "# for scan_id in SCAN_IDS:\n",
    "#     print(' {:.3f}%'.format(np.std(eti_x_differences[scan_id]) * 100),\n",
    "#           '\\t{:.3f}%'.format(np.std(eti_y_differences[scan_id]) * 100),\n",
    "#           '\\t{:.3f}%'.format(np.std(eti_w_differences[scan_id]) * 100),\n",
    "#           '\\t{:.3f}%'.format(np.std(eti_h_differences[scan_id]) * 100),\n",
    "#           '\\t{:.3f}%'.format(np.std(gumed_x_differences[scan_id]) * 100),\n",
    "#           '\\t{:.3f}%'.format(np.std(gumed_y_differences[scan_id]) * 100),\n",
    "#           '\\t{:.3f}%'.format(np.std(gumed_w_differences[scan_id]) * 100),\n",
    "#           '\\t{:.3f}%'.format(np.std(gumed_h_differences[scan_id]) * 100))"
   ]
  },
  {
   "cell_type": "markdown",
   "metadata": {},
   "source": [
    "## [Table 3] Dispersion in generated Ground Truth"
   ]
  },
  {
   "cell_type": "code",
   "execution_count": 19,
   "metadata": {},
   "outputs": [],
   "source": [
    "# gt_eti_x_differences = collections.defaultdict(lambda: 0)\n",
    "# gt_eti_y_differences = collections.defaultdict(lambda: 0)\n",
    "# gt_eti_w_differences = collections.defaultdict(lambda: 0)\n",
    "# gt_eti_h_differences = collections.defaultdict(lambda: 0)\n",
    "# gt_eti_total = collections.defaultdict(lambda: 0)\n",
    "\n",
    "# gt_gumed_x_differences = collections.defaultdict(lambda: 0)\n",
    "# gt_gumed_y_differences = collections.defaultdict(lambda: 0)\n",
    "# gt_gumed_w_differences = collections.defaultdict(lambda: 0)\n",
    "# gt_gumed_h_differences = collections.defaultdict(lambda: 0)\n",
    "# gt_gumed_total = collections.defaultdict(lambda: 0)\n",
    "\n",
    "# for slice_id in ground_truth_eti:\n",
    "#     scan_id = models.Scan.query.join(models.Slice).filter(models.Slice.id == slice_id).first().id\n",
    "#     gt_eti = ground_truth_eti.get(slice_id)\n",
    "#     gt_eti = gt_eti if gt_eti is not None else np.array((0,0,0,0))\n",
    "#     gt_rect = ground_truth_expert.get(slice_id)\n",
    "#     gt_rect = gt_rect if gt_rect is not None else np.array((0,0,0,0))\n",
    "#     gt_eti_x_differences[scan_id] += abs(gt_eti[0] - gt_rect[0])\n",
    "#     gt_eti_y_differences[scan_id] += abs(gt_eti[1] - gt_rect[1])\n",
    "#     gt_eti_w_differences[scan_id] += abs((gt_eti[2] - gt_eti[0]) - (gt_rect[2] - gt_rect[0]))\n",
    "#     gt_eti_h_differences[scan_id] += abs((gt_eti[3] - gt_eti[1]) - (gt_rect[3] - gt_rect[1]))\n",
    "#     gt_eti_total[scan_id] += 1\n",
    "\n",
    "# for slice_id in ground_truth_gumed:\n",
    "#     scan_id = models.Scan.query.join(models.Slice).filter(models.Slice.id == slice_id).first().id\n",
    "#     gt_gumed = ground_truth_gumed.get(slice_id)\n",
    "#     gt_gumed = gt_gumed if gt_gumed is not None else np.array((0,0,0,0))\n",
    "#     gt_rect = ground_truth_expert.get(slice_id)\n",
    "#     gt_rect = gt_rect if gt_rect is not None else np.array((0,0,0,0))\n",
    "#     gt_gumed_x_differences[scan_id] += abs(gt_gumed[0] - gt_rect[0])\n",
    "#     gt_gumed_y_differences[scan_id] += abs(gt_gumed[1] - gt_rect[1])\n",
    "#     gt_gumed_w_differences[scan_id] += abs((gt_gumed[2] - gt_gumed[0]) - (gt_rect[2] - gt_rect[0]))\n",
    "#     gt_gumed_h_differences[scan_id] += abs((gt_gumed[3] - gt_gumed[1]) - (gt_rect[3] - gt_rect[1]))\n",
    "#     gt_gumed_total[scan_id] += 1\n",
    "\n",
    "# for scan_id in SCAN_IDS:\n",
    "#     print(' {:.3f}%'.format(gt_eti_x_differences[scan_id] / gt_eti_total[scan_id] * 100),\n",
    "#           '\\t{:.3f}%'.format(gt_eti_y_differences[scan_id] / gt_eti_total[scan_id] * 100),\n",
    "#           '\\t{:.3f}%'.format(gt_eti_w_differences[scan_id] / gt_eti_total[scan_id] * 100),\n",
    "#           '\\t{:.3f}%'.format(gt_eti_h_differences[scan_id] / gt_eti_total[scan_id] * 100),\n",
    "#           '\\t{:.3f}%'.format(gt_gumed_x_differences[scan_id] / gt_gumed_total[scan_id] * 100),\n",
    "#           '\\t{:.3f}%'.format(gt_gumed_y_differences[scan_id] / gt_gumed_total[scan_id] * 100),\n",
    "#           '\\t{:.3f}%'.format(gt_gumed_w_differences[scan_id] / gt_gumed_total[scan_id] * 100),\n",
    "#           '\\t{:.3f}%'.format(gt_gumed_h_differences[scan_id] / gt_gumed_total[scan_id] * 100))"
   ]
  },
  {
   "cell_type": "markdown",
   "metadata": {},
   "source": [
    "### [GUMED] Check Users' Specificity and Sensitivity\n",
    "\n",
    "MedTagger supports easy calculation of Users' Specificity, Sensitivity and Score based on their annotations and Ground Truth data set."
   ]
  },
  {
   "cell_type": "code",
   "execution_count": 20,
   "metadata": {
    "scrolled": true
   },
   "outputs": [
    {
     "name": "stdout",
     "output_type": "stream",
     "text": [
      "There are 13 Users.\n"
     ]
    }
   ],
   "source": [
    "gumed_users = set(element.label.owner for element in gumed_rectangular_label_elements)\n",
    "print(f'There are {len(gumed_users)} Users.')"
   ]
  },
  {
   "cell_type": "code",
   "execution_count": 21,
   "metadata": {},
   "outputs": [],
   "source": [
    "gumed_users_specificity, gumed_users_sensitivity, gumed_users_scores = \\\n",
    "    compute_specificity_and_sensitivity_for_users(algorithm, gumed_users,\n",
    "                                                  gumed_rectangular_label_elements,\n",
    "                                                  ground_truth_gumed)"
   ]
  },
  {
   "cell_type": "code",
   "execution_count": 22,
   "metadata": {},
   "outputs": [
    {
     "name": "stdout",
     "output_type": "stream",
     "text": [
      "User #102: Sensitivity=0.01370 Specificity=1.00000 Score=0.00019\n",
      "User #103: Sensitivity=0.83562 Specificity=1.00000 Score=0.69825\n",
      "User #104: Sensitivity=0.02740 Specificity=0.98795 Score=0.00024\n",
      "User #106: Sensitivity=0.13699 Specificity=0.98795 Score=0.01561\n",
      "User #107: Sensitivity=0.95890 Specificity=0.97590 Score=0.87387\n",
      "User #109: Sensitivity=0.13699 Specificity=1.00000 Score=0.01877\n",
      "User #116: Sensitivity=0.80822 Specificity=1.00000 Score=0.65322\n",
      "User #117: Sensitivity=0.15068 Specificity=0.98795 Score=0.01922\n",
      "User #118: Sensitivity=0.65753 Specificity=1.00000 Score=0.43235\n",
      "User #119: Sensitivity=0.05479 Specificity=0.98795 Score=0.00183\n",
      "User #120: Sensitivity=0.98630 Specificity=0.97590 Score=0.92584\n",
      "User #121: Sensitivity=0.56164 Specificity=0.98795 Score=0.30206\n",
      "User #123: Sensitivity=0.94521 Specificity=0.96386 Score=0.82639\n"
     ]
    }
   ],
   "source": [
    "users_ids = set(u.id for u in gumed_users)\n",
    "for user_id in users_ids:\n",
    "    print(f'User #{user_id:03d}: Sensitivity={gumed_users_sensitivity[user_id]:1.5f} '\n",
    "          f'Specificity={gumed_users_specificity[user_id]:1.5f} Score={gumed_users_scores[user_id]:1.5f}')"
   ]
  },
  {
   "cell_type": "code",
   "execution_count": 23,
   "metadata": {},
   "outputs": [],
   "source": [
    "# figures.specificity_vs_sensitivity(gumed_users_specificity, gumed_users_sensitivity)"
   ]
  },
  {
   "cell_type": "markdown",
   "metadata": {},
   "source": [
    "### [GUMED] Compare Labeling Time to Users' Score\n",
    "\n",
    "You can also check how User's mean Labeling Time outputs in their achieved scores."
   ]
  },
  {
   "cell_type": "code",
   "execution_count": 24,
   "metadata": {
    "scrolled": false
   },
   "outputs": [],
   "source": [
    "# figures.mean_labeling_time_vs_score(gumed_rectangular_label_elements, gumed_users_scores)"
   ]
  },
  {
   "cell_type": "markdown",
   "metadata": {},
   "source": [
    "### [ETI] Check Users' Specificity and Sensitivity\n",
    "\n",
    "MedTagger supports easy calculation of Users' Specificity, Sensitivity and Score based on their annotations and Ground Truth data set."
   ]
  },
  {
   "cell_type": "code",
   "execution_count": 25,
   "metadata": {
    "scrolled": true
   },
   "outputs": [
    {
     "name": "stdout",
     "output_type": "stream",
     "text": [
      "There are 35 Users.\n"
     ]
    }
   ],
   "source": [
    "eti_users = set(element.label.owner for element in eti_rectangular_label_elements)\n",
    "print(f'There are {len(eti_users)} Users.')"
   ]
  },
  {
   "cell_type": "code",
   "execution_count": 26,
   "metadata": {},
   "outputs": [],
   "source": [
    "eti_users_specificity, eti_users_sensitivity, eti_users_scores = \\\n",
    "    compute_specificity_and_sensitivity_for_users(algorithm, eti_users,\n",
    "                                                  eti_rectangular_label_elements,\n",
    "                                                  ground_truth_eti)"
   ]
  },
  {
   "cell_type": "code",
   "execution_count": 27,
   "metadata": {},
   "outputs": [
    {
     "name": "stdout",
     "output_type": "stream",
     "text": [
      "User #003: Sensitivity=0.47561 Specificity=1.00000 Score=0.22620\n",
      "User #005: Sensitivity=0.48780 Specificity=1.00000 Score=0.23795\n",
      "User #025: Sensitivity=0.50000 Specificity=1.00000 Score=0.25000\n",
      "User #031: Sensitivity=0.48780 Specificity=0.98649 Score=0.22495\n",
      "User #033: Sensitivity=0.24390 Specificity=1.00000 Score=0.05949\n",
      "User #034: Sensitivity=0.45122 Specificity=1.00000 Score=0.20360\n",
      "User #035: Sensitivity=0.40244 Specificity=1.00000 Score=0.16196\n",
      "User #036: Sensitivity=0.39024 Specificity=1.00000 Score=0.15229\n",
      "User #037: Sensitivity=0.47561 Specificity=1.00000 Score=0.22620\n",
      "User #039: Sensitivity=0.01220 Specificity=0.97297 Score=0.00022\n",
      "User #040: Sensitivity=0.47561 Specificity=1.00000 Score=0.22620\n",
      "User #041: Sensitivity=0.45122 Specificity=0.98649 Score=0.19159\n",
      "User #042: Sensitivity=0.46341 Specificity=1.00000 Score=0.21475\n",
      "User #043: Sensitivity=0.39024 Specificity=1.00000 Score=0.15229\n",
      "User #044: Sensitivity=0.90244 Specificity=1.00000 Score=0.81440\n",
      "User #048: Sensitivity=0.45122 Specificity=0.90541 Score=0.12718\n",
      "User #049: Sensitivity=0.02439 Specificity=0.98649 Score=0.00012\n",
      "User #052: Sensitivity=0.46341 Specificity=1.00000 Score=0.21475\n",
      "User #053: Sensitivity=0.03659 Specificity=1.00000 Score=0.00134\n",
      "User #054: Sensitivity=0.47561 Specificity=1.00000 Score=0.22620\n",
      "User #055: Sensitivity=0.80488 Specificity=1.00000 Score=0.64783\n",
      "User #056: Sensitivity=0.51220 Specificity=1.00000 Score=0.26234\n",
      "User #058: Sensitivity=0.51220 Specificity=1.00000 Score=0.26234\n",
      "User #059: Sensitivity=0.45122 Specificity=1.00000 Score=0.20360\n",
      "User #060: Sensitivity=0.37805 Specificity=1.00000 Score=0.14292\n",
      "User #065: Sensitivity=0.32927 Specificity=1.00000 Score=0.10842\n",
      "User #067: Sensitivity=0.85366 Specificity=1.00000 Score=0.72873\n",
      "User #072: Sensitivity=0.50000 Specificity=1.00000 Score=0.25000\n",
      "User #091: Sensitivity=0.84146 Specificity=0.97297 Score=0.66331\n",
      "User #092: Sensitivity=0.06098 Specificity=1.00000 Score=0.00372\n",
      "User #096: Sensitivity=0.46341 Specificity=1.00000 Score=0.21475\n",
      "User #097: Sensitivity=0.40244 Specificity=1.00000 Score=0.16196\n",
      "User #098: Sensitivity=0.43902 Specificity=1.00000 Score=0.19274\n",
      "User #099: Sensitivity=0.51220 Specificity=0.94595 Score=0.20989\n",
      "User #101: Sensitivity=0.20732 Specificity=1.00000 Score=0.04298\n"
     ]
    }
   ],
   "source": [
    "users_ids = set(u.id for u in eti_users)\n",
    "for user_id in users_ids:\n",
    "    print(f'User #{user_id:03d}: Sensitivity={eti_users_sensitivity[user_id]:1.5f} '\n",
    "          f'Specificity={eti_users_specificity[user_id]:1.5f} Score={eti_users_scores[user_id]:1.5f}')"
   ]
  },
  {
   "cell_type": "code",
   "execution_count": 28,
   "metadata": {},
   "outputs": [],
   "source": [
    "# figures.specificity_vs_sensitivity(eti_users_specificity, eti_users_sensitivity)"
   ]
  },
  {
   "cell_type": "markdown",
   "metadata": {},
   "source": [
    "### [ETI] Compare Labeling Time to Users' Score\n",
    "\n",
    "You can also check how User's mean Labeling Time outputs in their achieved scores."
   ]
  },
  {
   "cell_type": "code",
   "execution_count": 29,
   "metadata": {
    "scrolled": false
   },
   "outputs": [],
   "source": [
    "# figures.mean_labeling_time_vs_score(eti_rectangular_label_elements, eti_users_scores)"
   ]
  },
  {
   "cell_type": "markdown",
   "metadata": {},
   "source": [
    "### [COMBINED] Check Users' Specificity and Sensitivity\n",
    "\n",
    "MedTagger supports easy calculation of Users' Specificity, Sensitivity and Score based on their annotations and Ground Truth data set."
   ]
  },
  {
   "cell_type": "code",
   "execution_count": 30,
   "metadata": {
    "scrolled": true
   },
   "outputs": [
    {
     "name": "stdout",
     "output_type": "stream",
     "text": [
      "There are 48 Users.\n"
     ]
    }
   ],
   "source": [
    "combined_users = set(element.label.owner for element in combined_rectangular_label_elements)\n",
    "print(f'There are {len(combined_users)} Users.')"
   ]
  },
  {
   "cell_type": "code",
   "execution_count": 31,
   "metadata": {},
   "outputs": [],
   "source": [
    "combined_users_specificity, combined_users_sensitivity, combined_users_scores = \\\n",
    "    compute_specificity_and_sensitivity_for_users(algorithm, combined_users,\n",
    "                                                  combined_rectangular_label_elements,\n",
    "                                                  ground_truth_combined)"
   ]
  },
  {
   "cell_type": "code",
   "execution_count": 32,
   "metadata": {},
   "outputs": [
    {
     "name": "stdout",
     "output_type": "stream",
     "text": [
      "User #003: Sensitivity=0.44828 Specificity=1.00000 Score=0.20095\n",
      "User #005: Sensitivity=0.45977 Specificity=1.00000 Score=0.21139\n",
      "User #025: Sensitivity=0.49425 Specificity=1.00000 Score=0.24429\n",
      "User #031: Sensitivity=0.45977 Specificity=0.98551 Score=0.19827\n",
      "User #033: Sensitivity=0.22989 Specificity=1.00000 Score=0.05285\n",
      "User #034: Sensitivity=0.42529 Specificity=1.00000 Score=0.18087\n",
      "User #035: Sensitivity=0.37931 Specificity=1.00000 Score=0.14388\n",
      "User #036: Sensitivity=0.36782 Specificity=1.00000 Score=0.13529\n",
      "User #037: Sensitivity=0.44828 Specificity=1.00000 Score=0.20095\n",
      "User #039: Sensitivity=0.01149 Specificity=0.97101 Score=0.00031\n",
      "User #040: Sensitivity=0.44828 Specificity=1.00000 Score=0.20095\n",
      "User #041: Sensitivity=0.42529 Specificity=1.00000 Score=0.18087\n",
      "User #042: Sensitivity=0.43678 Specificity=1.00000 Score=0.19078\n",
      "User #043: Sensitivity=0.36782 Specificity=1.00000 Score=0.13529\n",
      "User #044: Sensitivity=0.85057 Specificity=1.00000 Score=0.72348\n",
      "User #048: Sensitivity=0.42529 Specificity=0.89855 Score=0.10487\n",
      "User #049: Sensitivity=0.03448 Specificity=1.00000 Score=0.00119\n",
      "User #052: Sensitivity=0.43678 Specificity=1.00000 Score=0.19078\n",
      "User #053: Sensitivity=0.03448 Specificity=1.00000 Score=0.00119\n",
      "User #054: Sensitivity=0.44828 Specificity=1.00000 Score=0.20095\n",
      "User #055: Sensitivity=0.75862 Specificity=1.00000 Score=0.57551\n",
      "User #056: Sensitivity=0.48276 Specificity=1.00000 Score=0.23306\n",
      "User #058: Sensitivity=0.48276 Specificity=1.00000 Score=0.23306\n",
      "User #059: Sensitivity=0.42529 Specificity=1.00000 Score=0.18087\n",
      "User #060: Sensitivity=0.36782 Specificity=1.00000 Score=0.13529\n",
      "User #065: Sensitivity=0.31034 Specificity=1.00000 Score=0.09631\n",
      "User #067: Sensitivity=0.78161 Specificity=1.00000 Score=0.61091\n",
      "User #072: Sensitivity=0.47126 Specificity=1.00000 Score=0.22209\n",
      "User #091: Sensitivity=0.81609 Specificity=1.00000 Score=0.66601\n",
      "User #092: Sensitivity=0.05747 Specificity=1.00000 Score=0.00330\n",
      "User #096: Sensitivity=0.43678 Specificity=1.00000 Score=0.19078\n",
      "User #097: Sensitivity=0.37931 Specificity=1.00000 Score=0.14388\n",
      "User #098: Sensitivity=0.41379 Specificity=1.00000 Score=0.17122\n",
      "User #099: Sensitivity=0.48276 Specificity=0.94203 Score=0.18044\n",
      "User #101: Sensitivity=0.19540 Specificity=1.00000 Score=0.03818\n",
      "User #102: Sensitivity=0.01149 Specificity=1.00000 Score=0.00013\n",
      "User #103: Sensitivity=0.70115 Specificity=1.00000 Score=0.49161\n",
      "User #104: Sensitivity=0.03448 Specificity=1.00000 Score=0.00119\n",
      "User #106: Sensitivity=0.12644 Specificity=1.00000 Score=0.01599\n",
      "User #107: Sensitivity=0.80460 Specificity=1.00000 Score=0.64738\n",
      "User #109: Sensitivity=0.11494 Specificity=1.00000 Score=0.01321\n",
      "User #116: Sensitivity=0.67816 Specificity=1.00000 Score=0.45990\n",
      "User #117: Sensitivity=0.12644 Specificity=1.00000 Score=0.01599\n",
      "User #118: Sensitivity=0.55172 Specificity=1.00000 Score=0.30440\n",
      "User #119: Sensitivity=0.04598 Specificity=1.00000 Score=0.00211\n",
      "User #120: Sensitivity=0.85057 Specificity=1.00000 Score=0.72348\n",
      "User #121: Sensitivity=0.48276 Specificity=1.00000 Score=0.23306\n",
      "User #123: Sensitivity=0.79310 Specificity=0.95652 Score=0.56194\n"
     ]
    }
   ],
   "source": [
    "users_ids = set(u.id for u in combined_users)\n",
    "for user_id in users_ids:\n",
    "    print(f'User #{user_id:03d}: Sensitivity={combined_users_sensitivity[user_id]:1.5f} '\n",
    "          f'Specificity={combined_users_specificity[user_id]:1.5f} Score={combined_users_scores[user_id]:1.5f}')"
   ]
  },
  {
   "cell_type": "code",
   "execution_count": 33,
   "metadata": {},
   "outputs": [],
   "source": [
    "# figures.specificity_vs_sensitivity(combined_users_specificity, combined_users_sensitivity)"
   ]
  },
  {
   "cell_type": "markdown",
   "metadata": {},
   "source": [
    "### [COMBINED] Compare Labeling Time to Users' Score\n",
    "\n",
    "You can also check how User's mean Labeling Time outputs in their achieved scores."
   ]
  },
  {
   "cell_type": "code",
   "execution_count": 34,
   "metadata": {
    "scrolled": false
   },
   "outputs": [],
   "source": [
    "# figures.mean_labeling_time_vs_score(eti_rectangular_label_elements, eti_users_scores)"
   ]
  },
  {
   "cell_type": "markdown",
   "metadata": {},
   "source": [
    "## [GUMED] Only best labels"
   ]
  },
  {
   "cell_type": "code",
   "execution_count": 35,
   "metadata": {
    "scrolled": false
   },
   "outputs": [
    {
     "data": {
      "text/plain": [
       "[103, 107, 120, 123]"
      ]
     },
     "execution_count": 35,
     "metadata": {},
     "output_type": "execute_result"
    }
   ],
   "source": [
    "gumed_raw_scores = np.array(list(gumed_users_scores.values()))\n",
    "gumed_median_score = np.percentile(gumed_raw_scores, PERCENTILE)\n",
    "best_gumed_users_id = [u_id for u_id in gumed_users_scores if gumed_users_scores[u_id] >= gumed_median_score]\n",
    "best_gumed_users_id"
   ]
  },
  {
   "cell_type": "code",
   "execution_count": 36,
   "metadata": {
    "scrolled": false
   },
   "outputs": [],
   "source": [
    "best_gumed_rectangular_label_elements = [e for e in gumed_rectangular_label_elements\n",
    "                                         if e.label.owner_id in best_gumed_users_id]\n",
    "ground_truth_gumed_best = generator.generate(best_gumed_rectangular_label_elements)\n",
    "# ground_truth_gumed_best"
   ]
  },
  {
   "cell_type": "markdown",
   "metadata": {},
   "source": [
    "## [ETI] Only best labels"
   ]
  },
  {
   "cell_type": "code",
   "execution_count": 37,
   "metadata": {
    "scrolled": false
   },
   "outputs": [],
   "source": [
    "eti_raw_scores = np.array(list(eti_users_scores.values()))\n",
    "eti_median_score = np.percentile(eti_raw_scores, PERCENTILE)\n",
    "best_eti_users_id = [u_id for u_id in eti_users_scores if eti_users_scores[u_id] >= eti_median_score]\n",
    "# best_eti_users_id"
   ]
  },
  {
   "cell_type": "code",
   "execution_count": 38,
   "metadata": {
    "scrolled": false
   },
   "outputs": [],
   "source": [
    "best_eti_rectangular_label_elements = [e for e in eti_rectangular_label_elements\n",
    "                                       if e.label.owner_id in best_eti_users_id]\n",
    "ground_truth_eti_best = generator.generate(best_eti_rectangular_label_elements)\n",
    "# ground_truth_eti_best"
   ]
  },
  {
   "cell_type": "markdown",
   "metadata": {},
   "source": [
    "## [COMBINED] Only best labels"
   ]
  },
  {
   "cell_type": "code",
   "execution_count": 39,
   "metadata": {
    "scrolled": false
   },
   "outputs": [],
   "source": [
    "combined_raw_scores = np.array(list(combined_users_scores.values()))\n",
    "combined_median_score = np.percentile(combined_raw_scores, PERCENTILE)\n",
    "best_combined_users_id = [u_id for u_id in combined_users_scores\n",
    "                          if combined_users_scores[u_id] >= combined_median_score]\n",
    "# best_combined_users_id"
   ]
  },
  {
   "cell_type": "code",
   "execution_count": 40,
   "metadata": {
    "scrolled": false
   },
   "outputs": [],
   "source": [
    "best_combined_rectangular_label_elements = [e for e in combined_rectangular_label_elements\n",
    "                                            if e.label.owner_id in best_combined_users_id]\n",
    "ground_truth_combined_best = generator.generate(best_combined_rectangular_label_elements)\n",
    "# ground_truth_combined_best"
   ]
  },
  {
   "cell_type": "markdown",
   "metadata": {},
   "source": [
    "## [Table 1]"
   ]
  },
  {
   "cell_type": "code",
   "execution_count": 41,
   "metadata": {},
   "outputs": [],
   "source": [
    "# gumed_valid_labels = {}\n",
    "# gumed_total_labels = {}\n",
    "\n",
    "# for e in best_gumed_rectangular_label_elements:\n",
    "#     scan_id = e.label.scan.id\n",
    "#     slice_id = e.label.scan.slices[e.slice_index].id\n",
    "#     if gumed_valid_labels.get(scan_id) is None:\n",
    "#         gumed_valid_labels[scan_id] = 0\n",
    "#         gumed_total_labels[scan_id] = 0\n",
    "#     if ground_truth_expert[slice_id] is not None:\n",
    "#         gumed_valid_labels[scan_id] += 1\n",
    "#     gumed_total_labels[scan_id] += 1\n",
    "\n",
    "# eti_valid_labels = {}\n",
    "# eti_total_labels = {}\n",
    "\n",
    "# for e in best_eti_rectangular_label_elements:\n",
    "#     scan_id = e.label.scan.id\n",
    "#     slice_id = e.label.scan.slices[e.slice_index].id\n",
    "#     if eti_valid_labels.get(scan_id) is None:\n",
    "#         eti_valid_labels[scan_id] = 0\n",
    "#         eti_total_labels[scan_id] = 0\n",
    "#     if ground_truth_expert[slice_id] is not None:\n",
    "#         eti_valid_labels[scan_id] += 1\n",
    "#     eti_total_labels[scan_id] += 1\n",
    "\n",
    "# for scan_id in SCAN_IDS:\n",
    "#     print(' {:.3f}%'.format(100 * eti_valid_labels[scan_id] / eti_total_labels[scan_id]),\n",
    "#           '\\t{:.3f}%'.format(100 * (eti_total_labels[scan_id] - eti_valid_labels[scan_id]) / eti_total_labels[scan_id]),\n",
    "#           '\\t{:.3f}%'.format(100 * gumed_valid_labels[scan_id] / gumed_total_labels[scan_id]),\n",
    "#           '\\t{:.3f}%'.format(100 * (gumed_total_labels[scan_id] - gumed_valid_labels[scan_id]) / gumed_total_labels[scan_id]))"
   ]
  },
  {
   "cell_type": "markdown",
   "metadata": {},
   "source": [
    "## [Table 2.1] Dispersion"
   ]
  },
  {
   "cell_type": "code",
   "execution_count": 42,
   "metadata": {},
   "outputs": [],
   "source": [
    "# gumed_x_differences = collections.defaultdict(lambda: [])\n",
    "# gumed_y_differences = collections.defaultdict(lambda: [])\n",
    "# gumed_w_differences = collections.defaultdict(lambda: [])\n",
    "# gumed_h_differences = collections.defaultdict(lambda: [])\n",
    "\n",
    "# for e in best_gumed_rectangular_label_elements:\n",
    "#     scan_id = e.label.scan.id\n",
    "#     slice_id = e.label.scan.slices[e.slice_index].id\n",
    "#     gt_rect = ground_truth_expert.get(slice_id)\n",
    "#     gt_rect = gt_rect if gt_rect is not None else np.array((0,0,0,0))\n",
    "#     gumed_x_differences[scan_id].append(abs(e.x - gt_rect[0]))\n",
    "#     gumed_y_differences[scan_id].append(abs(e.y - gt_rect[1]))\n",
    "#     gumed_w_differences[scan_id].append(abs(e.width - (gt_rect[2] - gt_rect[0])))\n",
    "#     gumed_h_differences[scan_id].append(abs(e.height - (gt_rect[3] - gt_rect[1])))\n",
    "\n",
    "# eti_x_differences = collections.defaultdict(lambda: [])\n",
    "# eti_y_differences = collections.defaultdict(lambda: [])\n",
    "# eti_w_differences = collections.defaultdict(lambda: [])\n",
    "# eti_h_differences = collections.defaultdict(lambda: [])\n",
    "\n",
    "# for e in best_eti_rectangular_label_elements:\n",
    "#     scan_id = e.label.scan.id\n",
    "#     slice_id = e.label.scan.slices[e.slice_index].id\n",
    "#     gt_rect = ground_truth_expert.get(slice_id)\n",
    "#     gt_rect = gt_rect if gt_rect is not None else np.array((0,0,0,0))\n",
    "#     eti_x_differences[scan_id].append(abs(e.x - gt_rect[0]))\n",
    "#     eti_y_differences[scan_id].append(abs(e.y - gt_rect[1]))\n",
    "#     eti_w_differences[scan_id].append(abs(e.width - (gt_rect[2] - gt_rect[0])))\n",
    "#     eti_h_differences[scan_id].append(abs(e.height - (gt_rect[3] - gt_rect[1])))\n",
    "\n",
    "# for scan_id in SCAN_IDS:\n",
    "#     print(' {:.3f}%'.format(np.std(eti_x_differences[scan_id]) * 100),\n",
    "#           '\\t{:.3f}%'.format(np.std(eti_y_differences[scan_id]) * 100),\n",
    "#           '\\t{:.3f}%'.format(np.std(eti_w_differences[scan_id]) * 100),\n",
    "#           '\\t{:.3f}%'.format(np.std(eti_h_differences[scan_id]) * 100),\n",
    "#           '\\t{:.3f}%'.format(np.std(gumed_x_differences[scan_id]) * 100),\n",
    "#           '\\t{:.3f}%'.format(np.std(gumed_y_differences[scan_id]) * 100),\n",
    "#           '\\t{:.3f}%'.format(np.std(gumed_w_differences[scan_id]) * 100),\n",
    "#           '\\t{:.3f}%'.format(np.std(gumed_h_differences[scan_id]) * 100))"
   ]
  },
  {
   "cell_type": "markdown",
   "metadata": {},
   "source": [
    "## [Table 3.1] Dispersion on best people"
   ]
  },
  {
   "cell_type": "code",
   "execution_count": 43,
   "metadata": {},
   "outputs": [],
   "source": [
    "# gt_eti_x_differences = collections.defaultdict(lambda: 0)\n",
    "# gt_eti_y_differences = collections.defaultdict(lambda: 0)\n",
    "# gt_eti_w_differences = collections.defaultdict(lambda: 0)\n",
    "# gt_eti_h_differences = collections.defaultdict(lambda: 0)\n",
    "# gt_eti_total = collections.defaultdict(lambda: 0)\n",
    "\n",
    "# gt_gumed_x_differences = collections.defaultdict(lambda: 0)\n",
    "# gt_gumed_y_differences = collections.defaultdict(lambda: 0)\n",
    "# gt_gumed_w_differences = collections.defaultdict(lambda: 0)\n",
    "# gt_gumed_h_differences = collections.defaultdict(lambda: 0)\n",
    "# gt_gumed_total = collections.defaultdict(lambda: 0)\n",
    "\n",
    "# for slice_id in ground_truth_eti_best:\n",
    "#     scan_id = models.Scan.query.join(models.Slice).filter(models.Slice.id == slice_id).first().id\n",
    "#     gt_eti = ground_truth_eti_best.get(slice_id)\n",
    "#     gt_eti = gt_eti if gt_eti is not None else np.array((0,0,0,0))\n",
    "#     gt_rect = ground_truth_expert.get(slice_id)\n",
    "#     gt_rect = gt_rect if gt_rect is not None else np.array((0,0,0,0))\n",
    "#     gt_eti_x_differences[scan_id] += abs(gt_eti[0] - gt_rect[0])\n",
    "#     gt_eti_y_differences[scan_id] += abs(gt_eti[1] - gt_rect[1])\n",
    "#     gt_eti_w_differences[scan_id] += abs((gt_eti[2] - gt_eti[0]) - (gt_rect[2] - gt_rect[0]))\n",
    "#     gt_eti_h_differences[scan_id] += abs((gt_eti[3] - gt_eti[1]) - (gt_rect[3] - gt_rect[1]))\n",
    "#     gt_eti_total[scan_id] += 1\n",
    "\n",
    "# for slice_id in ground_truth_gumed_best:\n",
    "#     scan_id = models.Scan.query.join(models.Slice).filter(models.Slice.id == slice_id).first().id\n",
    "#     gt_gumed = ground_truth_gumed_best.get(slice_id)\n",
    "#     gt_gumed = gt_gumed if gt_gumed is not None else np.array((0,0,0,0))\n",
    "#     gt_rect = ground_truth_expert.get(slice_id)\n",
    "#     gt_rect = gt_rect if gt_rect is not None else np.array((0,0,0,0))\n",
    "#     gt_gumed_x_differences[scan_id] += abs(gt_gumed[0] - gt_rect[0])\n",
    "#     gt_gumed_y_differences[scan_id] += abs(gt_gumed[1] - gt_rect[1])\n",
    "#     gt_gumed_w_differences[scan_id] += abs((gt_gumed[2] - gt_gumed[0]) - (gt_rect[2] - gt_rect[0]))\n",
    "#     gt_gumed_h_differences[scan_id] += abs((gt_gumed[3] - gt_gumed[1]) - (gt_rect[3] - gt_rect[1]))\n",
    "#     gt_gumed_total[scan_id] += 1\n",
    "\n",
    "# for scan_id in SCAN_IDS:\n",
    "#     print(' {:.3f}%'.format(gt_eti_x_differences[scan_id] / gt_eti_total[scan_id] * 100),\n",
    "#           '\\t{:.3f}%'.format(gt_eti_y_differences[scan_id] / gt_eti_total[scan_id] * 100),\n",
    "#           '\\t{:.3f}%'.format(gt_eti_w_differences[scan_id] / gt_eti_total[scan_id] * 100),\n",
    "#           '\\t{:.3f}%'.format(gt_eti_h_differences[scan_id] / gt_eti_total[scan_id] * 100),\n",
    "#           '\\t{:.3f}%'.format(gt_gumed_x_differences[scan_id] / gt_gumed_total[scan_id] * 100),\n",
    "#           '\\t{:.3f}%'.format(gt_gumed_y_differences[scan_id] / gt_gumed_total[scan_id] * 100),\n",
    "#           '\\t{:.3f}%'.format(gt_gumed_w_differences[scan_id] / gt_gumed_total[scan_id] * 100),\n",
    "#           '\\t{:.3f}%'.format(gt_gumed_h_differences[scan_id] / gt_gumed_total[scan_id] * 100))"
   ]
  },
  {
   "cell_type": "code",
   "execution_count": 44,
   "metadata": {
    "scrolled": false
   },
   "outputs": [],
   "source": [
    "# #\n",
    "# # DLA DAWIDA\n",
    "# #\n",
    "# user_emails = set()\n",
    "\n",
    "# gumed_differences = collections.defaultdict(lambda: collections.defaultdict(lambda: 0))\n",
    "# gumed_total = collections.defaultdict(lambda: collections.defaultdict(lambda: 0))\n",
    "\n",
    "# for e in best_gumed_rectangular_label_elements:\n",
    "#     user_id = e.label.owner.email\n",
    "#     user_emails.add(user_id)\n",
    "#     scan_id = e.label.scan.id\n",
    "#     slice_id = e.label.scan.slices[e.slice_index].id\n",
    "#     gt_rect = ground_truth_expert.get(slice_id)\n",
    "#     gt_rect = gt_rect if gt_rect is not None else np.array((0,0,0,0))\n",
    "#     gumed_rect = parser.convert_to_numpy([e])[0]\n",
    "    \n",
    "#     iou = parser.compute_intersection_over_union(gumed_rect, gt_rect)\n",
    "#     if not np.isnan(iou):\n",
    "#         gumed_differences[user_id][scan_id] += iou\n",
    "#         gumed_total[user_id][scan_id] += 1\n",
    "\n",
    "# for slice_id in ground_truth_expert:\n",
    "#     for gumed_id in best_gumed_users_id:\n",
    "#         user = models.User.query.filter(models.User.id == gumed_id).first()\n",
    "        \n",
    "#         gumed_label_element = next((e for e in best_gumed_rectangular_label_elements\n",
    "#                                     if e.label.scan.slices[e.slice_index].id == slice_id\n",
    "#                                       and e.label.owner_id == gumed_id\n",
    "#                                    ), None)\n",
    "        \n",
    "#         if ground_truth_expert.get(slice_id) is not None and gumed_label_element is None:\n",
    "#             scan_id = models.Scan.query.join(models.Slice).filter(models.Slice.id == slice_id).first().id\n",
    "#             gumed_differences[user.email][scan_id] += 0\n",
    "#             gumed_total[user.email][scan_id] += 1\n",
    "\n",
    "# eti_differences = collections.defaultdict(lambda: collections.defaultdict(lambda: 0))\n",
    "# eti_total = collections.defaultdict(lambda: collections.defaultdict(lambda: 0))\n",
    "\n",
    "# for e in best_eti_rectangular_label_elements:\n",
    "#     user_id = e.label.owner.email\n",
    "#     user_emails.add(user_id)\n",
    "#     scan_id = e.label.scan.id\n",
    "#     slice_id = e.label.scan.slices[e.slice_index].id\n",
    "#     gt_rect = ground_truth_expert.get(slice_id)\n",
    "#     gt_rect = gt_rect if gt_rect is not None else np.array((0,0,0,0))\n",
    "#     eti_rect = parser.convert_to_numpy([e])[0]\n",
    "    \n",
    "#     iou = parser.compute_intersection_over_union(eti_rect, gt_rect)\n",
    "#     if not np.isnan(iou):\n",
    "#         eti_differences[user_id][scan_id] += iou\n",
    "#         eti_total[user_id][scan_id] += 1\n",
    "\n",
    "\n",
    "# for slice_id in ground_truth_expert:\n",
    "#     for eti_id in best_eti_users_id:\n",
    "#         user = models.User.query.filter(models.User.id == eti_id).first()\n",
    "        \n",
    "#         eti_label_element = next((e for e in best_eti_rectangular_label_elements\n",
    "#                                     if e.label.scan.slices[e.slice_index].id == slice_id\n",
    "#                                       and e.label.owner_id == eti_id\n",
    "#                                    ), None)\n",
    "        \n",
    "#         if ground_truth_expert.get(slice_id) is not None and eti_label_element is None:\n",
    "#             scan_id = models.Scan.query.join(models.Slice).filter(models.Slice.id == slice_id).first().id\n",
    "#             eti_differences[user.email][scan_id] += 0\n",
    "#             eti_total[user.email][scan_id] += 1\n",
    "        \n",
    "# for user_id in user_emails:\n",
    "#     for scan_id in SCAN_IDS:\n",
    "#         if eti_total[user_id][scan_id] > 0:\n",
    "#             iou = eti_differences[user_id][scan_id] / eti_total[user_id][scan_id] * 100\n",
    "#         elif gumed_total[user_id][scan_id] > 0:\n",
    "#             iou = gumed_differences[user_id][scan_id] / gumed_total[user_id][scan_id] * 100\n",
    "#         else:\n",
    "#             iou = 0\n",
    "#         label = models.Label.query.join(models.User).filter(models.User.email == user_id)\\\n",
    "#                    .filter(models.Label.scan_id == scan_id).first()\n",
    "#         cant_see_anything = False if label is None else label.comment == 'This is an empty Label'\n",
    "#         timestamp = 0 if label is None else label.labeling_time\n",
    "#         print('{}\\t{}\\t{:.3f}%\\t{}\\t{}'.format(user_id, scan_id, iou, timestamp, cant_see_anything))"
   ]
  },
  {
   "cell_type": "markdown",
   "metadata": {},
   "source": [
    "## Intersection over Union - między wprowadzonymi etykietami a prawdziwym Ground Truth"
   ]
  },
  {
   "cell_type": "code",
   "execution_count": 45,
   "metadata": {},
   "outputs": [
    {
     "name": "stdout",
     "output_type": "stream",
     "text": [
      " 78.654% \t77.347% \t75.461%\n",
      " 74.215% \t70.247% \t71.912%\n",
      " 66.708% \t69.971% \t63.470%\n",
      " 65.700% \t74.465% \t64.351%\n",
      " 32.766% \t67.650% \t50.358%\n"
     ]
    }
   ],
   "source": [
    "gumed_differences = collections.defaultdict(lambda: 0)\n",
    "gumed_total = collections.defaultdict(lambda: 0)\n",
    "\n",
    "for e in best_gumed_rectangular_label_elements:\n",
    "    scan_id = e.label.scan.id\n",
    "    slice_id = e.label.scan.slices[e.slice_index].id\n",
    "    gt_rect = ground_truth_expert.get(slice_id)\n",
    "    gt_rect = gt_rect if gt_rect is not None else np.array((0,0,0,0))\n",
    "    gumed_rect = parser.convert_to_numpy([e])[0]\n",
    "    \n",
    "    iou = parser.compute_intersection_over_union(gumed_rect, gt_rect)\n",
    "    if not np.isnan(iou):\n",
    "        gumed_differences[scan_id] += iou\n",
    "        gumed_total[scan_id] += 1\n",
    "\n",
    "for slice_id in ground_truth_expert:\n",
    "    for gumed_id in best_gumed_users_id:\n",
    "        user = models.User.query.filter(models.User.id == gumed_id).first()\n",
    "        \n",
    "        gumed_label_element = next((e for e in best_gumed_rectangular_label_elements\n",
    "                                    if e.label.scan.slices[e.slice_index].id == slice_id\n",
    "                                      and e.label.owner_id == gumed_id\n",
    "                                   ), None)\n",
    "        \n",
    "        if ground_truth_expert.get(slice_id) is not None and gumed_label_element is None:\n",
    "            scan_id = models.Scan.query.join(models.Slice).filter(models.Slice.id == slice_id).first().id\n",
    "            gumed_differences[scan_id] += 0\n",
    "            gumed_total[scan_id] += 1\n",
    "        \n",
    "eti_differences = collections.defaultdict(lambda: 0)\n",
    "eti_total = collections.defaultdict(lambda: 0)\n",
    "\n",
    "for e in best_eti_rectangular_label_elements:\n",
    "    scan_id = e.label.scan.id\n",
    "    slice_id = e.label.scan.slices[e.slice_index].id\n",
    "    gt_rect = ground_truth_expert.get(slice_id)\n",
    "    gt_rect = gt_rect if gt_rect is not None else np.array((0,0,0,0))\n",
    "    eti_rect = parser.convert_to_numpy([e])[0]\n",
    "    \n",
    "    iou = parser.compute_intersection_over_union(eti_rect, gt_rect)\n",
    "    if not np.isnan(iou):\n",
    "        eti_differences[scan_id] += iou\n",
    "        eti_total[scan_id] += 1\n",
    "\n",
    "for slice_id in ground_truth_expert:\n",
    "    for eti_id in best_eti_users_id:\n",
    "        user = models.User.query.filter(models.User.id == eti_id).first()\n",
    "        \n",
    "        eti_label_element = next((e for e in best_eti_rectangular_label_elements\n",
    "                                    if e.label.scan.slices[e.slice_index].id == slice_id\n",
    "                                      and e.label.owner_id == eti_id\n",
    "                                   ), None)\n",
    "        \n",
    "        if ground_truth_expert.get(slice_id) is not None and eti_label_element is None:\n",
    "            scan_id = models.Scan.query.join(models.Slice).filter(models.Slice.id == slice_id).first().id\n",
    "            eti_differences[scan_id] += 0\n",
    "            eti_total[scan_id] += 1\n",
    "        \n",
    "combined_differences = collections.defaultdict(lambda: 0)\n",
    "combined_total = collections.defaultdict(lambda: 0)\n",
    "\n",
    "for e in best_combined_rectangular_label_elements:\n",
    "    scan_id = e.label.scan.id\n",
    "    slice_id = e.label.scan.slices[e.slice_index].id\n",
    "    gt_rect = ground_truth_expert.get(slice_id)\n",
    "    gt_rect = gt_rect if gt_rect is not None else np.array((0,0,0,0))\n",
    "    combined_rect = parser.convert_to_numpy([e])[0]\n",
    "    \n",
    "    iou = parser.compute_intersection_over_union(combined_rect, gt_rect)\n",
    "    if not np.isnan(iou):\n",
    "        combined_differences[scan_id] += iou\n",
    "        combined_total[scan_id] += 1\n",
    "\n",
    "for slice_id in ground_truth_expert:\n",
    "    for eti_id in best_combined_users_id:\n",
    "        user = models.User.query.filter(models.User.id == eti_id).first()\n",
    "        \n",
    "        combined_label_element = next((e for e in best_combined_rectangular_label_elements\n",
    "                                    if e.label.scan.slices[e.slice_index].id == slice_id\n",
    "                                      and e.label.owner_id == eti_id\n",
    "                                   ), None)\n",
    "        \n",
    "        if ground_truth_expert.get(slice_id) is not None and combined_label_element is None:\n",
    "            scan_id = models.Scan.query.join(models.Slice).filter(models.Slice.id == slice_id).first().id\n",
    "            combined_differences[scan_id] += 0\n",
    "            combined_total[scan_id] += 1\n",
    "\n",
    "for scan_id in SCAN_IDS:\n",
    "    print(' {:.3f}%'.format(eti_differences[scan_id] / eti_total[scan_id] * 100),\n",
    "          '\\t{:.3f}%'.format(gumed_differences[scan_id] / gumed_total[scan_id] * 100),\n",
    "          '\\t{:.3f}%'.format(combined_differences[scan_id] / combined_total[scan_id] * 100))"
   ]
  },
  {
   "cell_type": "markdown",
   "metadata": {},
   "source": [
    "## Intersection over Union - między wyliczonym Ground Truth a prawdziwym Ground Truth"
   ]
  },
  {
   "cell_type": "code",
   "execution_count": 46,
   "metadata": {},
   "outputs": [
    {
     "name": "stderr",
     "output_type": "stream",
     "text": [
      "/Users/jakubpowierza/Projects/MedTagger/backend/medtagger/ground_truth/parsers/rectangle.py:49: RuntimeWarning: invalid value encountered in long_scalars\n",
      "  return intersection / union\n"
     ]
    },
    {
     "name": "stdout",
     "output_type": "stream",
     "text": [
      " 80.245% \t87.511% \t79.155%\n",
      " 77.615% \t74.112% \t69.559%\n",
      " 71.506% \t78.722% \t69.687%\n",
      " 70.207% \t81.526% \t69.165%\n",
      " 71.232% \t72.093% \t71.115%\n"
     ]
    }
   ],
   "source": [
    "gt_eti_differences = collections.defaultdict(lambda: 0)\n",
    "gt_eti_total = collections.defaultdict(lambda: 0)\n",
    "\n",
    "for slice_id in ground_truth_eti_best:\n",
    "    scan_id = models.Scan.query.join(models.Slice).filter(models.Slice.id == slice_id).first().id\n",
    "    gt_eti = ground_truth_eti_best.get(slice_id)\n",
    "    gt_eti = gt_eti if gt_eti is not None else np.array((0,0,0,0))\n",
    "    gt_rect = ground_truth_expert.get(slice_id)\n",
    "    gt_rect = gt_rect if gt_rect is not None else np.array((0,0,0,0))\n",
    "\n",
    "    iou = parser.compute_intersection_over_union(gt_eti, gt_rect)\n",
    "    if not np.isnan(iou):\n",
    "        gt_eti_differences[scan_id] += iou\n",
    "        gt_eti_total[scan_id] += 1\n",
    "\n",
    "gt_gumed_differences = collections.defaultdict(lambda: 0)\n",
    "gt_gumed_total = collections.defaultdict(lambda: 0)\n",
    "    \n",
    "for slice_id in ground_truth_gumed_best:\n",
    "    scan_id = models.Scan.query.join(models.Slice).filter(models.Slice.id == slice_id).first().id\n",
    "    gt_gumed = ground_truth_gumed_best.get(slice_id)\n",
    "    gt_gumed = gt_gumed if gt_gumed is not None else np.array((0,0,0,0))\n",
    "    gt_rect = ground_truth_expert.get(slice_id)\n",
    "    gt_rect = gt_rect if gt_rect is not None else np.array((0,0,0,0))\n",
    "    \n",
    "    iou = parser.compute_intersection_over_union(gt_gumed, gt_rect)\n",
    "    if not np.isnan(iou):\n",
    "        gt_gumed_differences[scan_id] += iou\n",
    "        gt_gumed_total[scan_id] += 1\n",
    "\n",
    "gt_combined_differences = collections.defaultdict(lambda: 0)\n",
    "gt_combined_total = collections.defaultdict(lambda: 0)\n",
    "    \n",
    "for slice_id in ground_truth_combined_best:\n",
    "    scan_id = models.Scan.query.join(models.Slice).filter(models.Slice.id == slice_id).first().id\n",
    "    gt_combined = ground_truth_combined_best.get(slice_id)\n",
    "    gt_combined = gt_combined if gt_combined is not None else np.array((0,0,0,0))\n",
    "    gt_rect = ground_truth_expert.get(slice_id)\n",
    "    gt_rect = gt_rect if gt_rect is not None else np.array((0,0,0,0))\n",
    "    \n",
    "    iou = parser.compute_intersection_over_union(gt_combined, gt_rect)\n",
    "    if not np.isnan(iou):\n",
    "        gt_combined_differences[scan_id] += iou\n",
    "        gt_combined_total[scan_id] += 1\n",
    "\n",
    "for scan_id in SCAN_IDS:\n",
    "    print(' {:.3f}%'.format(gt_eti_differences[scan_id] / gt_eti_total[scan_id] * 100),\n",
    "          '\\t{:.3f}%'.format(gt_gumed_differences[scan_id] / gt_gumed_total[scan_id] * 100),\n",
    "          '\\t{:.3f}%'.format(gt_combined_differences[scan_id] / gt_combined_total[scan_id] * 100))"
   ]
  },
  {
   "cell_type": "markdown",
   "metadata": {},
   "source": [
    "## Mean Average Precision @ 0.75 - między wprowadzonymi etykietami a prawdziwym Ground Truth"
   ]
  },
  {
   "cell_type": "code",
   "execution_count": 47,
   "metadata": {},
   "outputs": [
    {
     "name": "stdout",
     "output_type": "stream",
     "text": [
      " 80.392% \t75.556% \t73.750%\n",
      " 78.571% \t78.125% \t77.064%\n",
      " 55.446% \t41.463% \t44.966%\n",
      " 53.922% \t60.976% \t52.000%\n",
      " 22.878% \t57.692% \t38.568%\n"
     ]
    }
   ],
   "source": [
    "THRESHOLD = 0.75\n",
    "\n",
    "gumed_differences = collections.defaultdict(lambda: 0)\n",
    "gumed_total = collections.defaultdict(lambda: 0)\n",
    "\n",
    "for e in best_gumed_rectangular_label_elements:\n",
    "    scan_id = e.label.scan.id\n",
    "    slice_id = e.label.scan.slices[e.slice_index].id\n",
    "    gt_rect = ground_truth_expert.get(slice_id)\n",
    "    gt_rect = gt_rect if gt_rect is not None else np.array((0,0,0,0))\n",
    "    gumed_rect = parser.convert_to_numpy([e])[0]\n",
    "    \n",
    "    iou = parser.compute_intersection_over_union(gumed_rect, gt_rect)\n",
    "    iou = 1.0 if np.isnan(iou) else iou\n",
    "    gumed_differences[scan_id] += 1 if iou >= THRESHOLD else 0\n",
    "    gumed_total[scan_id] += 1\n",
    "\n",
    "for slice_id in ground_truth_expert:\n",
    "    for gumed_id in best_gumed_users_id:\n",
    "        user = models.User.query.filter(models.User.id == gumed_id).first()\n",
    "        \n",
    "        gumed_label_element = next((e for e in best_gumed_rectangular_label_elements\n",
    "                                    if e.label.scan.slices[e.slice_index].id == slice_id\n",
    "                                      and e.label.owner_id == gumed_id\n",
    "                                   ), None)\n",
    "        \n",
    "        if ground_truth_expert.get(slice_id) is not None and gumed_label_element is None:\n",
    "            scan_id = models.Scan.query.join(models.Slice).filter(models.Slice.id == slice_id).first().id\n",
    "            gumed_differences[scan_id] += 0\n",
    "            gumed_total[scan_id] += 1\n",
    "    \n",
    "eti_differences = collections.defaultdict(lambda: 0)\n",
    "eti_total = collections.defaultdict(lambda: 0)\n",
    "\n",
    "for e in best_eti_rectangular_label_elements:\n",
    "    scan_id = e.label.scan.id\n",
    "    slice_id = e.label.scan.slices[e.slice_index].id\n",
    "    gt_rect = ground_truth_expert.get(slice_id)\n",
    "    gt_rect = gt_rect if gt_rect is not None else np.array((0,0,0,0))\n",
    "    eti_rect = parser.convert_to_numpy([e])[0]\n",
    "    \n",
    "    iou = parser.compute_intersection_over_union(eti_rect, gt_rect)\n",
    "    iou = 1.0 if np.isnan(iou) else iou\n",
    "    eti_differences[scan_id] += 1 if iou >= THRESHOLD else 0\n",
    "    eti_total[scan_id] += 1\n",
    "\n",
    "for slice_id in ground_truth_expert:\n",
    "    for eti_id in best_eti_users_id:\n",
    "        user = models.User.query.filter(models.User.id == eti_id).first()\n",
    "        \n",
    "        eti_label_element = next((e for e in best_eti_rectangular_label_elements\n",
    "                                    if e.label.scan.slices[e.slice_index].id == slice_id\n",
    "                                      and e.label.owner_id == eti_id\n",
    "                                   ), None)\n",
    "        \n",
    "        if ground_truth_expert.get(slice_id) is not None and eti_label_element is None:\n",
    "            scan_id = models.Scan.query.join(models.Slice).filter(models.Slice.id == slice_id).first().id\n",
    "            eti_differences[scan_id] += 0\n",
    "            eti_total[scan_id] += 1\n",
    "    \n",
    "combined_differences = collections.defaultdict(lambda: 0)\n",
    "combined_total = collections.defaultdict(lambda: 0)\n",
    "\n",
    "for e in best_combined_rectangular_label_elements:\n",
    "    scan_id = e.label.scan.id\n",
    "    slice_id = e.label.scan.slices[e.slice_index].id\n",
    "    gt_rect = ground_truth_expert.get(slice_id)\n",
    "    gt_rect = gt_rect if gt_rect is not None else np.array((0,0,0,0))\n",
    "    combined_rect = parser.convert_to_numpy([e])[0]\n",
    "    \n",
    "    iou = parser.compute_intersection_over_union(combined_rect, gt_rect)\n",
    "    iou = 1.0 if np.isnan(iou) else iou\n",
    "    combined_differences[scan_id] += 1 if iou >= THRESHOLD else 0\n",
    "    combined_total[scan_id] += 1\n",
    "\n",
    "for slice_id in ground_truth_expert:\n",
    "    for eti_id in best_combined_users_id:\n",
    "        user = models.User.query.filter(models.User.id == eti_id).first()\n",
    "        \n",
    "        combined_label_element = next((e for e in best_combined_rectangular_label_elements\n",
    "                                    if e.label.scan.slices[e.slice_index].id == slice_id\n",
    "                                      and e.label.owner_id == eti_id\n",
    "                                   ), None)\n",
    "        \n",
    "        if ground_truth_expert.get(slice_id) is not None and combined_label_element is None:\n",
    "            scan_id = models.Scan.query.join(models.Slice).filter(models.Slice.id == slice_id).first().id\n",
    "            combined_differences[scan_id] += 0\n",
    "            combined_total[scan_id] += 1\n",
    "    \n",
    "for scan_id in SCAN_IDS:\n",
    "    print(' {:.3f}%'.format(eti_differences[scan_id] / eti_total[scan_id] * 100),\n",
    "          '\\t{:.3f}%'.format(gumed_differences[scan_id] / gumed_total[scan_id] * 100),\n",
    "          '\\t{:.3f}%'.format(combined_differences[scan_id] / combined_total[scan_id] * 100))"
   ]
  },
  {
   "cell_type": "markdown",
   "metadata": {},
   "source": [
    "## Mean Average Precision @ 0.75 - między wyliczonym Ground Truth a prawdziwym Ground Truth"
   ]
  },
  {
   "cell_type": "code",
   "execution_count": 48,
   "metadata": {},
   "outputs": [
    {
     "name": "stdout",
     "output_type": "stream",
     "text": [
      " 96.429% \t100.000% \t92.857%\n",
      " 95.455% \t95.455% \t90.909%\n",
      " 89.286% \t92.857% \t89.286%\n",
      " 85.714% \t96.429% \t89.286%\n",
      " 74.000% \t78.000% \t82.000%\n"
     ]
    }
   ],
   "source": [
    "THRESHOLD = 0.75\n",
    "\n",
    "gt_eti_differences = collections.defaultdict(lambda: 0)\n",
    "gt_eti_total = collections.defaultdict(lambda: 0)\n",
    "\n",
    "for slice_id in ground_truth_eti_best:\n",
    "    scan_id = models.Scan.query.join(models.Slice).filter(models.Slice.id == slice_id).first().id\n",
    "    gt_eti = ground_truth_eti_best.get(slice_id)\n",
    "    gt_eti = gt_eti if gt_eti is not None else np.array((0,0,0,0))\n",
    "    gt_rect = ground_truth_expert.get(slice_id)\n",
    "    gt_rect = gt_rect if gt_rect is not None else np.array((0,0,0,0))\n",
    "    \n",
    "    iou = parser.compute_intersection_over_union(gt_eti, gt_rect)\n",
    "    iou = 1.0 if np.isnan(iou) else iou\n",
    "    gt_eti_differences[scan_id] += 1 if iou >= THRESHOLD else 0\n",
    "    gt_eti_total[scan_id] += 1\n",
    "\n",
    "gt_gumed_differences = collections.defaultdict(lambda: 0)\n",
    "gt_gumed_total = collections.defaultdict(lambda: 0)\n",
    "\n",
    "for slice_id in ground_truth_gumed_best:\n",
    "    scan_id = models.Scan.query.join(models.Slice).filter(models.Slice.id == slice_id).first().id\n",
    "    gt_gumed = ground_truth_gumed_best.get(slice_id)\n",
    "    gt_gumed = gt_gumed if gt_gumed is not None else np.array((0,0,0,0))\n",
    "    gt_rect = ground_truth_expert.get(slice_id)\n",
    "    gt_rect = gt_rect if gt_rect is not None else np.array((0,0,0,0))\n",
    "\n",
    "    iou = parser.compute_intersection_over_union(gt_gumed, gt_rect)\n",
    "    iou = 1.0 if np.isnan(iou) else iou\n",
    "    gt_gumed_differences[scan_id] += 1 if iou >= THRESHOLD else 0\n",
    "    gt_gumed_total[scan_id] += 1\n",
    "\n",
    "gt_combined_differences = collections.defaultdict(lambda: 0)\n",
    "gt_combined_total = collections.defaultdict(lambda: 0)\n",
    "\n",
    "for slice_id in ground_truth_combined_best:\n",
    "    scan_id = models.Scan.query.join(models.Slice).filter(models.Slice.id == slice_id).first().id\n",
    "    gt_combined = ground_truth_combined_best.get(slice_id)\n",
    "    gt_combined = gt_combined if gt_combined is not None else np.array((0,0,0,0))\n",
    "    gt_rect = ground_truth_expert.get(slice_id)\n",
    "    gt_rect = gt_rect if gt_rect is not None else np.array((0,0,0,0))\n",
    "\n",
    "    iou = parser.compute_intersection_over_union(gt_combined, gt_rect)\n",
    "    iou = 1.0 if np.isnan(iou) else iou\n",
    "    gt_combined_differences[scan_id] += 1 if iou >= THRESHOLD else 0\n",
    "    gt_combined_total[scan_id] += 1\n",
    "\n",
    "for scan_id in SCAN_IDS:\n",
    "    print(' {:.3f}%'.format(gt_eti_differences[scan_id] / gt_eti_total[scan_id] * 100),\n",
    "          '\\t{:.3f}%'.format(gt_gumed_differences[scan_id] / gt_gumed_total[scan_id] * 100),\n",
    "          '\\t{:.3f}%'.format(gt_combined_differences[scan_id] / gt_combined_total[scan_id] * 100))"
   ]
  },
  {
   "cell_type": "code",
   "execution_count": null,
   "metadata": {},
   "outputs": [],
   "source": []
  },
  {
   "cell_type": "code",
   "execution_count": null,
   "metadata": {},
   "outputs": [],
   "source": []
  },
  {
   "cell_type": "code",
   "execution_count": 55,
   "metadata": {},
   "outputs": [
    {
     "name": "stdout",
     "output_type": "stream",
     "text": [
      "03647f36-d874-480b-aaec-c2c3b9d80092 28 204.893808268149 209.506774805625\n",
      "b750320e-5664-4eff-b4c7-49e4f43ce6ca 28 122.112552685138 132.535646480914\n",
      "7985ea16-d5a4-4bda-92db-43a3cc074216 50 185.323267364727 191.26143970512\n",
      "8b5d264d-bc2f-458f-ba68-2a987d55deae 28 122.112552685138 132.535646480914\n",
      "40761156-99db-4647-9b72-8e449e6cb54c 22 98.5844863206798 116.710386589234\n"
     ]
    }
   ],
   "source": [
    "for scan in models.Scan.query.all():\n",
    "    min_slice = min([slice_.position_z for slice_ in scan.slices])\n",
    "    max_slice = max([slice_.position_z for slice_ in scan.slices])\n",
    "    print(scan.id, len(scan.slices), min_slice, max_slice)"
   ]
  },
  {
   "cell_type": "code",
   "execution_count": null,
   "metadata": {},
   "outputs": [],
   "source": []
  }
 ],
 "metadata": {
  "kernelspec": {
   "display_name": "Python 3",
   "language": "python",
   "name": "python3"
  },
  "language_info": {
   "codemirror_mode": {
    "name": "ipython",
    "version": 3
   },
   "file_extension": ".py",
   "mimetype": "text/x-python",
   "name": "python",
   "nbconvert_exporter": "python",
   "pygments_lexer": "ipython3",
   "version": "3.7.0"
  }
 },
 "nbformat": 4,
 "nbformat_minor": 2
}
